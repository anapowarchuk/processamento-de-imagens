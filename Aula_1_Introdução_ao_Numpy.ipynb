{
  "cells": [
    {
      "cell_type": "markdown",
      "metadata": {
        "id": "view-in-github",
        "colab_type": "text"
      },
      "source": [
        "<a href=\"https://colab.research.google.com/github/anapowarchuk/processamento-de-imagens/blob/main/Aula_1_Introdu%C3%A7%C3%A3o_ao_Numpy.ipynb\" target=\"_parent\"><img src=\"https://colab.research.google.com/assets/colab-badge.svg\" alt=\"Open In Colab\"/></a>"
      ]
    },
    {
      "cell_type": "markdown",
      "metadata": {
        "id": "1xqKVpJyPjaZ"
      },
      "source": [
        "\n",
        "Material elaborado por Ana Xavier, durante as aulas de Processamento Digitais de Imagens, ministradas pela Professora Dra. Carla Diniz L. Becker, para o curso de Informática Biomédica da Universidade Federal de Ciências da Saúde de Porto Alegre."
      ]
    },
    {
      "cell_type": "markdown",
      "metadata": {
        "id": "sMUjifQcP4VP"
      },
      "source": [
        "# **Aula 1 - Introdução ao Numpy**\n",
        "### 04/11/2021 [Aula Assincrona]"
      ]
    },
    {
      "cell_type": "markdown",
      "metadata": {
        "id": "VLwZErYMPjTg"
      },
      "source": [
        "Importando a biblioteca Numpy"
      ]
    },
    {
      "cell_type": "code",
      "execution_count": null,
      "metadata": {
        "id": "R2CXRGG6PY0d"
      },
      "outputs": [],
      "source": [
        "import numpy as np"
      ]
    },
    {
      "cell_type": "markdown",
      "metadata": {
        "id": "LgMt4dfngEBF"
      },
      "source": [
        "## **A estrutura de uma matriz NumPy: uma visão sobre memória**"
      ]
    },
    {
      "cell_type": "markdown",
      "metadata": {
        "id": "yx0JHrWbclgr"
      },
      "source": [
        "Gera os inteiros de zero a oito e coloca-os em uma matriz 3x3"
      ]
    },
    {
      "cell_type": "code",
      "execution_count": null,
      "metadata": {
        "colab": {
          "base_uri": "https://localhost:8080/"
        },
        "id": "trRvwpNdcSkN",
        "outputId": "25f55e17-7592-4f94-b8cf-2e5d63fcacca"
      },
      "outputs": [
        {
          "data": {
            "text/plain": [
              "array([[0, 1, 2],\n",
              "       [3, 4, 5],\n",
              "       [6, 7, 8]])"
            ]
          },
          "execution_count": 3,
          "metadata": {},
          "output_type": "execute_result"
        }
      ],
      "source": [
        "x = np.arange(9).reshape((3, 3))\n",
        "x"
      ]
    },
    {
      "cell_type": "code",
      "execution_count": null,
      "metadata": {
        "colab": {
          "base_uri": "https://localhost:8080/"
        },
        "id": "JdIIzrylcc2z",
        "outputId": "763ff0f5-d8b0-4f01-eb79-41fe5bebe5f4"
      },
      "outputs": [
        {
          "data": {
            "text/plain": [
              "(24, 8)"
            ]
          },
          "execution_count": 4,
          "metadata": {},
          "output_type": "execute_result"
        }
      ],
      "source": [
        "x.strides"
      ]
    },
    {
      "cell_type": "code",
      "execution_count": null,
      "metadata": {
        "colab": {
          "base_uri": "https://localhost:8080/"
        },
        "id": "ykSnG46kcs7r",
        "outputId": "ecc9e1de-1c30-4d30-b7c7-71c010b58f95"
      },
      "outputs": [
        {
          "data": {
            "text/plain": [
              "array([[0, 2],\n",
              "       [6, 8]])"
            ]
          },
          "execution_count": 5,
          "metadata": {},
          "output_type": "execute_result"
        }
      ],
      "source": [
        "y = x[::2, ::2]\n",
        "y\n"
      ]
    },
    {
      "cell_type": "code",
      "execution_count": null,
      "metadata": {
        "colab": {
          "base_uri": "https://localhost:8080/"
        },
        "id": "SGUDWCGhc1Ha",
        "outputId": "ae25db16-e2cd-43dd-fd68-5a62c0aa3c88"
      },
      "outputs": [
        {
          "data": {
            "text/plain": [
              "(48, 16)"
            ]
          },
          "execution_count": 6,
          "metadata": {},
          "output_type": "execute_result"
        }
      ],
      "source": [
        "y.strides"
      ]
    },
    {
      "cell_type": "code",
      "execution_count": null,
      "metadata": {
        "colab": {
          "base_uri": "https://localhost:8080/"
        },
        "id": "IEzGLVMNeKP6",
        "outputId": "1d80b97d-0708-4676-d415-78bc3394f665"
      },
      "outputs": [
        {
          "data": {
            "text/plain": [
              "array([[100,   1,   2],\n",
              "       [  3,   4,   5],\n",
              "       [  6,   7,   8]])"
            ]
          },
          "execution_count": 7,
          "metadata": {},
          "output_type": "execute_result"
        }
      ],
      "source": [
        "y[0, 0] = 100\n",
        "x"
      ]
    },
    {
      "cell_type": "markdown",
      "metadata": {
        "id": "65dzKsanfH3g"
      },
      "source": [
        "Transpondo o array, usando \"T\""
      ]
    },
    {
      "cell_type": "code",
      "execution_count": null,
      "metadata": {
        "colab": {
          "base_uri": "https://localhost:8080/"
        },
        "id": "lL_h1uM1fO3_",
        "outputId": "3e4cfdf3-90ae-4589-c57f-d3f61d1c8d8a"
      },
      "outputs": [
        {
          "data": {
            "text/plain": [
              "array([[100,   3,   6],\n",
              "       [  1,   4,   7],\n",
              "       [  2,   5,   8]])"
            ]
          },
          "execution_count": 8,
          "metadata": {},
          "output_type": "execute_result"
        }
      ],
      "source": [
        " xT = x.T\n",
        " xT"
      ]
    },
    {
      "cell_type": "code",
      "execution_count": null,
      "metadata": {
        "colab": {
          "base_uri": "https://localhost:8080/"
        },
        "id": "WaLwuLyzfT8N",
        "outputId": "36a3e123-4094-4393-ec0b-c52c7297f75d"
      },
      "outputs": [
        {
          "data": {
            "text/plain": [
              "(8, 24)"
            ]
          },
          "execution_count": 9,
          "metadata": {},
          "output_type": "execute_result"
        }
      ],
      "source": [
        "xT.strides"
      ]
    },
    {
      "cell_type": "markdown",
      "metadata": {
        "id": "gYAabTYLfXKl"
      },
      "source": [
        "Mudando a forma do array"
      ]
    },
    {
      "cell_type": "code",
      "execution_count": null,
      "metadata": {
        "colab": {
          "base_uri": "https://localhost:8080/"
        },
        "id": "XxQJdOvofZD3",
        "outputId": "6f42ee17-9f9f-45ea-ae70-5072a92401cc"
      },
      "outputs": [
        {
          "data": {
            "text/plain": [
              "array([[100,   1,   2,   3,   4,   5,   6,   7,   8]])"
            ]
          },
          "execution_count": 10,
          "metadata": {},
          "output_type": "execute_result"
        }
      ],
      "source": [
        "z = x.reshape((1, 9))\n",
        "z"
      ]
    },
    {
      "cell_type": "code",
      "execution_count": null,
      "metadata": {
        "colab": {
          "base_uri": "https://localhost:8080/"
        },
        "id": "FiasNLJ1fcx1",
        "outputId": "2d2e2f08-4f12-4f8c-8ff4-9427bba7652e"
      },
      "outputs": [
        {
          "data": {
            "text/plain": [
              "(72, 8)"
            ]
          },
          "execution_count": 13,
          "metadata": {},
          "output_type": "execute_result"
        }
      ],
      "source": [
        "z.strides"
      ]
    },
    {
      "cell_type": "markdown",
      "metadata": {
        "id": "AMPhOjJPfk6d"
      },
      "source": [
        "Visualizando os dados como bytes\n"
      ]
    },
    {
      "cell_type": "code",
      "execution_count": null,
      "metadata": {
        "colab": {
          "base_uri": "https://localhost:8080/"
        },
        "id": "0U9DDVNWfled",
        "outputId": "7f3e6db0-e1e3-4305-f74d-38831017597e"
      },
      "outputs": [
        {
          "data": {
            "text/plain": [
              "array([[100,   0,   0,   0,   0,   0,   0,   0,   1,   0,   0,   0,   0,\n",
              "          0,   0,   0,   2,   0,   0,   0,   0,   0,   0,   0,   3,   0,\n",
              "          0,   0,   0,   0,   0,   0,   4,   0,   0,   0,   0,   0,   0,\n",
              "          0,   5,   0,   0,   0,   0,   0,   0,   0,   6,   0,   0,   0,\n",
              "          0,   0,   0,   0,   7,   0,   0,   0,   0,   0,   0,   0,   8,\n",
              "          0,   0,   0,   0,   0,   0,   0]], dtype=uint8)"
            ]
          },
          "execution_count": 15,
          "metadata": {},
          "output_type": "execute_result"
        }
      ],
      "source": [
        "z.dtype = np.dtype('uint8')\n",
        "z"
      ]
    },
    {
      "cell_type": "code",
      "execution_count": null,
      "metadata": {
        "colab": {
          "base_uri": "https://localhost:8080/"
        },
        "id": "K1KR8vQff0xE",
        "outputId": "7c585e96-07fb-4902-85d3-68ede97922d7"
      },
      "outputs": [
        {
          "data": {
            "text/plain": [
              "(72, 1)"
            ]
          },
          "execution_count": 16,
          "metadata": {},
          "output_type": "execute_result"
        }
      ],
      "source": [
        "z.shape\n",
        "z.strides"
      ]
    },
    {
      "cell_type": "markdown",
      "metadata": {
        "id": "Ndd-2KcdgMds"
      },
      "source": [
        "## **Operações numericas: vetores**"
      ]
    },
    {
      "cell_type": "code",
      "execution_count": null,
      "metadata": {
        "colab": {
          "base_uri": "https://localhost:8080/"
        },
        "id": "pe8ThKLff9fM",
        "outputId": "c5890c34-c694-4e79-9042-84ed93b17a89"
      },
      "outputs": [
        {
          "data": {
            "text/plain": [
              "[3, 9, 15]"
            ]
          },
          "execution_count": 17,
          "metadata": {},
          "output_type": "execute_result"
        }
      ],
      "source": [
        "a = [1, 3, 5]\n",
        "b = [3*x for x in a]\n",
        "b\n"
      ]
    },
    {
      "cell_type": "code",
      "execution_count": null,
      "metadata": {
        "colab": {
          "base_uri": "https://localhost:8080/"
        },
        "id": "-VHczMvrgVQz",
        "outputId": "5ff81dca-69f6-4457-82f0-5abca8a7f83a"
      },
      "outputs": [
        {
          "data": {
            "text/plain": [
              "array([ 3,  9, 15])"
            ]
          },
          "execution_count": 18,
          "metadata": {},
          "output_type": "execute_result"
        }
      ],
      "source": [
        "a = np.array([1, 3, 5])\n",
        "b = 3 * a\n",
        "b"
      ]
    },
    {
      "cell_type": "code",
      "execution_count": null,
      "metadata": {
        "colab": {
          "base_uri": "https://localhost:8080/"
        },
        "id": "KKe8PfS_gaJ0",
        "outputId": "bfb0a6aa-e267-4640-a03e-c8d0758240f4"
      },
      "outputs": [
        {
          "data": {
            "text/plain": [
              "array([ 2,  6, 10])"
            ]
          },
          "execution_count": 19,
          "metadata": {},
          "output_type": "execute_result"
        }
      ],
      "source": [
        "b-a"
      ]
    },
    {
      "cell_type": "code",
      "execution_count": null,
      "metadata": {
        "colab": {
          "base_uri": "https://localhost:8080/"
        },
        "id": "jexN7BmBgdLD",
        "outputId": "c2a7fcd1-f6e3-4c27-d057-a3b19cd3b6cd"
      },
      "outputs": [
        {
          "data": {
            "text/plain": [
              "array([[0, 1, 2],\n",
              "       [3, 4, 5]])"
            ]
          },
          "execution_count": 20,
          "metadata": {},
          "output_type": "execute_result"
        }
      ],
      "source": [
        "m = np.arange(6).reshape((2,3))\n",
        "m"
      ]
    },
    {
      "cell_type": "code",
      "execution_count": null,
      "metadata": {
        "colab": {
          "base_uri": "https://localhost:8080/"
        },
        "id": "r0oP236Tgf3L",
        "outputId": "ef65d7e0-f18e-49eb-f332-103b9788924c"
      },
      "outputs": [
        {
          "data": {
            "text/plain": [
              "array([[ 3, 10, 17],\n",
              "       [ 6, 13, 20]])"
            ]
          },
          "execution_count": 21,
          "metadata": {},
          "output_type": "execute_result"
        }
      ],
      "source": [
        "b+m"
      ]
    },
    {
      "cell_type": "markdown",
      "metadata": {
        "id": "8yzUQNrqhkux"
      },
      "source": [
        "## **Exemplos de vetorização e transmissão** \n",
        "## Funções"
      ]
    },
    {
      "cell_type": "code",
      "execution_count": null,
      "metadata": {
        "colab": {
          "base_uri": "https://localhost:8080/"
        },
        "id": "NiCsQnWyhnIr",
        "outputId": "1bd03eec-5737-426a-8ca9-771b9ee57dc4"
      },
      "outputs": [
        {
          "data": {
            "text/plain": [
              "array([4.00000000e+00, 2.00000000e+00, 2.00000000e+00, ...,\n",
              "       9.99910002e+09, 9.99930001e+09, 9.99950001e+09])"
            ]
          },
          "execution_count": 24,
          "metadata": {},
          "output_type": "execute_result"
        }
      ],
      "source": [
        "def f(x):\n",
        "  return x**2 - 3*x + 4\n",
        "\n",
        "x = np.arange(1e5)\n",
        "y = [f(i) for i in x]\n",
        "\n",
        "y = f(x)\n",
        "y"
      ]
    }
  ],
  "metadata": {
    "colab": {
      "name": "Aula 1 - Introdução ao Numpy.ipynb",
      "provenance": [],
      "collapsed_sections": [],
      "authorship_tag": "ABX9TyMtd6B3F9M/GDaKE26HFA7V",
      "include_colab_link": true
    },
    "kernelspec": {
      "display_name": "Python 3 (ipykernel)",
      "language": "python",
      "name": "python3"
    },
    "language_info": {
      "codemirror_mode": {
        "name": "ipython",
        "version": 3
      },
      "file_extension": ".py",
      "mimetype": "text/x-python",
      "name": "python",
      "nbconvert_exporter": "python",
      "pygments_lexer": "ipython3",
      "version": "3.9.7"
    }
  },
  "nbformat": 4,
  "nbformat_minor": 0
}